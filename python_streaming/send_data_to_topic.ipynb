{
 "cells": [
  {
   "cell_type": "markdown",
   "id": "69c04aa0",
   "metadata": {},
   "source": [
    "### Import libs & db details"
   ]
  },
  {
   "cell_type": "code",
   "execution_count": 1,
   "id": "48f28def",
   "metadata": {},
   "outputs": [],
   "source": [
    "#import needed libraries\n",
    "from sqlalchemy import create_engine\n",
    "import pandas as pd\n",
    "import os\n",
    "import time\n",
    "#get password from environmnet var\n",
    "pwd = \"postgres\"\n",
    "uid = \"postgres\"\n",
    "server = \"localhost\"\n",
    "db = \"Adventureworks\"\n",
    "port = \"5433\"\n",
    "#\n",
    "engine = create_engine(f'postgresql://{uid}:{pwd}@{server}:{port}/{db}')"
   ]
  },
  {
   "cell_type": "markdown",
   "id": "8df55451",
   "metadata": {},
   "source": [
    "### Read data"
   ]
  },
  {
   "cell_type": "code",
   "execution_count": null,
   "id": "962e92e9",
   "metadata": {},
   "outputs": [],
   "source": [
    "df = pd.read_sql('Select * from humanresources.department', engine)\n",
    "df = df[['departmentid', 'name', 'groupname', 'modifieddate']]\n",
    "df"
   ]
  },
  {
   "cell_type": "markdown",
   "id": "f424d449",
   "metadata": {},
   "source": [
    "### Send data to topic"
   ]
  },
  {
   "cell_type": "code",
   "execution_count": null,
   "id": "84dfc508",
   "metadata": {},
   "outputs": [],
   "source": [
    "from kafka import KafkaProducer, KafkaConsumer\n",
    "import pandas as pd\n",
    "from sqlalchemy import create_engine\n",
    "import json\n",
    "from pandas import Timestamp\n",
    "\n",
    "# Define Kafka server and topic\n",
    "bootstrap_servers = ['localhost:29092']\n",
    "topic_name = 'test2'\n",
    "\n",
    "# Initialize producer\n",
    "producer = KafkaProducer(bootstrap_servers=bootstrap_servers,\n",
    "                         key_serializer=str.encode,\n",
    "                         value_serializer=lambda v: json.dumps(v).encode('utf-8'))\n",
    "\n",
    "# Initialize consumer\n",
    "consumer = KafkaConsumer(topic_name, bootstrap_servers=bootstrap_servers, group_id='youtube_tutorial')\n",
    "\n",
    "# SQLAlchemy engine\n",
    "pwd = \"postgres\"\n",
    "uid = \"postgres\"\n",
    "server = \"localhost\"\n",
    "db = \"Adventureworks\"\n",
    "port = \"5433\"\n",
    "engine = create_engine(f'postgresql://{uid}:{pwd}@{server}:{port}/{db}')\n",
    "\n",
    "# Read data from the database\n",
    "df = pd.read_sql('SELECT * FROM humanresources.department', engine)\n",
    "df = df[['departmentid', 'name', 'groupname', 'modifieddate']]\n",
    "\n",
    "# Send DataFrame rows to Kafka topic\n",
    "for index, row in df.iterrows():\n",
    "    department_data = row.to_dict()\n",
    "\n",
    "    # Converter Timestamp para string antes de serializar para JSON\n",
    "    for key, value in department_data.items():\n",
    "        if isinstance(value, Timestamp):\n",
    "            department_data[key] = value.strftime('%Y-%m-%d %H:%M:%S')\n",
    "\n",
    "    department_id = department_data['departmentid']\n",
    "\n",
    "    # Produce the message to the Kafka topic\n",
    "    producer.send(topic_name, key=str(department_id), value=department_data)\n",
    "\n",
    "    print(f\"Row Inserted: {department_data}\")\n",
    "\n",
    "# Close the producer to ensure all messages are sent\n",
    "producer.close()\n",
    "\n"
   ]
  }
 ],
 "metadata": {
  "kernelspec": {
   "display_name": "Python 3 (ipykernel)",
   "language": "python",
   "name": "python3"
  },
  "language_info": {
   "codemirror_mode": {
    "name": "ipython",
    "version": 3
   },
   "file_extension": ".py",
   "mimetype": "text/x-python",
   "name": "python",
   "nbconvert_exporter": "python",
   "pygments_lexer": "ipython3",
   "version": "3.10.12"
  }
 },
 "nbformat": 4,
 "nbformat_minor": 5
}
