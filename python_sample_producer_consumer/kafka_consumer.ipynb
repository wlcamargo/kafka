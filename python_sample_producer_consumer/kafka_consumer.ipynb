{
 "cells": [
  {
   "cell_type": "code",
   "execution_count": 1,
   "id": "7daa7e27",
   "metadata": {},
   "outputs": [
    {
     "name": "stdout",
     "output_type": "stream",
     "text": [
      "Topic Name=youtube,Message=b'{\"departmentid\": 1, \"name\": \"Engineering\", \"groupname\": \"Research and Development\", \"modifieddate\": \"2008-04-30 00:00:00\"}'\n",
      "Topic Name=youtube,Message=b'{\"departmentid\": 2, \"name\": \"Tool Design\", \"groupname\": \"Research and Development\", \"modifieddate\": \"2008-04-30 00:00:00\"}'\n",
      "Topic Name=youtube,Message=b'{\"departmentid\": 3, \"name\": \"Sales\", \"groupname\": \"Sales and Marketing\", \"modifieddate\": \"2008-04-30 00:00:00\"}'\n",
      "Topic Name=youtube,Message=b'{\"departmentid\": 4, \"name\": \"Marketing\", \"groupname\": \"Sales and Marketing\", \"modifieddate\": \"2008-04-30 00:00:00\"}'\n",
      "Topic Name=youtube,Message=b'{\"departmentid\": 5, \"name\": \"Purchasing\", \"groupname\": \"Inventory Management\", \"modifieddate\": \"2008-04-30 00:00:00\"}'\n",
      "Topic Name=youtube,Message=b'{\"departmentid\": 6, \"name\": \"Research and Development\", \"groupname\": \"Research and Development\", \"modifieddate\": \"2008-04-30 00:00:00\"}'\n",
      "Topic Name=youtube,Message=b'{\"departmentid\": 7, \"name\": \"Production\", \"groupname\": \"Manufacturing\", \"modifieddate\": \"2008-04-30 00:00:00\"}'\n",
      "Topic Name=youtube,Message=b'{\"departmentid\": 8, \"name\": \"Production Control\", \"groupname\": \"Manufacturing\", \"modifieddate\": \"2008-04-30 00:00:00\"}'\n",
      "Topic Name=youtube,Message=b'{\"departmentid\": 9, \"name\": \"Human Resources\", \"groupname\": \"Executive General and Administration\", \"modifieddate\": \"2008-04-30 00:00:00\"}'\n",
      "Topic Name=youtube,Message=b'{\"departmentid\": 10, \"name\": \"Finance\", \"groupname\": \"Executive General and Administration\", \"modifieddate\": \"2008-04-30 00:00:00\"}'\n",
      "Topic Name=youtube,Message=b'{\"departmentid\": 11, \"name\": \"Information Services\", \"groupname\": \"Executive General and Administration\", \"modifieddate\": \"2008-04-30 00:00:00\"}'\n",
      "Topic Name=youtube,Message=b'{\"departmentid\": 12, \"name\": \"Document Control\", \"groupname\": \"Quality Assurance\", \"modifieddate\": \"2008-04-30 00:00:00\"}'\n",
      "Topic Name=youtube,Message=b'{\"departmentid\": 13, \"name\": \"Quality Assurance\", \"groupname\": \"Quality Assurance\", \"modifieddate\": \"2008-04-30 00:00:00\"}'\n",
      "Topic Name=youtube,Message=b'{\"departmentid\": 14, \"name\": \"Facilities and Maintenance\", \"groupname\": \"Executive General and Administration\", \"modifieddate\": \"2008-04-30 00:00:00\"}'\n",
      "Topic Name=youtube,Message=b'{\"departmentid\": 15, \"name\": \"Shipping and Receiving\", \"groupname\": \"Inventory Management\", \"modifieddate\": \"2008-04-30 00:00:00\"}'\n",
      "Topic Name=youtube,Message=b'{\"departmentid\": 16, \"name\": \"Executive\", \"groupname\": \"Executive General and Administration\", \"modifieddate\": \"2008-04-30 00:00:00\"}'\n",
      "Topic Name=youtube,Message=b'{\"departmentid\": 17, \"name\": \"Business Intelligence\", \"groupname\": \"analytics\", \"modifieddate\": \"2024-01-12 00:00:00\"}'\n",
      "Topic Name=youtube,Message=b'{\"departmentid\": 19, \"name\": \"Data Science\", \"groupname\": \"analytics\", \"modifieddate\": \"2024-01-12 00:00:00\"}'\n",
      "Topic Name=youtube,Message=b'{\"departmentid\": 18, \"name\": \"Data Enginnering\", \"groupname\": \"analytics\", \"modifieddate\": \"2024-01-12 00:00:00\"}'\n"
     ]
    }
   ],
   "source": [
    "from kafka import KafkaConsumer\n",
    "\n",
    "# Define server with port\n",
    "bootstrap_servers = ['localhost:29092']\n",
    "\n",
    "# Define topic name from where the message will recieve\n",
    "topicName = 'youtube'\n",
    "\n",
    "# Initialize consumer variable\n",
    "consumer = KafkaConsumer (topicName , auto_offset_reset='earliest', bootstrap_servers = bootstrap_servers)\n",
    "\n",
    "# Read and print message from consumer\n",
    "for msg in consumer:\n",
    "    print(\"Topic Name=%s,Message=%s\"%(msg.topic,msg.value))"
   ]
  }
 ],
 "metadata": {
  "kernelspec": {
   "display_name": "Python 3 (ipykernel)",
   "language": "python",
   "name": "python3"
  },
  "language_info": {
   "codemirror_mode": {
    "name": "ipython",
    "version": 3
   },
   "file_extension": ".py",
   "mimetype": "text/x-python",
   "name": "python",
   "nbconvert_exporter": "python",
   "pygments_lexer": "ipython3",
   "version": "3.10.12"
  }
 },
 "nbformat": 4,
 "nbformat_minor": 5
}
